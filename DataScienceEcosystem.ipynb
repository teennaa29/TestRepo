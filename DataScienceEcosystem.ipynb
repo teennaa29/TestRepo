{
 "cells": [
  {
   "cell_type": "markdown",
   "id": "825860b4-1ea6-4537-8cbd-3b54fd360d0f",
   "metadata": {},
   "source": [
    "# Data Science Tools and Ecosystem"
   ]
  },
  {
   "cell_type": "markdown",
   "id": "5ddd3c8f-27af-4455-8bb7-57b5f2c61b11",
   "metadata": {},
   "source": [
    "In this notebook, Data Science Tools and Ecosystem are summarized."
   ]
  },
  {
   "cell_type": "markdown",
   "id": "bac61afe-2d9f-4a37-af87-0aeec5ea0dfc",
   "metadata": {},
   "source": [
    "**Objectives:**"
   ]
  },
  {
   "cell_type": "markdown",
   "id": "b6825666-18ef-41c3-98e1-ab78b6f90977",
   "metadata": {},
   "source": [
    "- Popular Languages\n",
    "- Commonly Used Libraries\n",
    "- Open Source Tools"
   ]
  },
  {
   "cell_type": "markdown",
   "id": "2c2c3b51-6a29-489a-a3fc-c9621440f333",
   "metadata": {},
   "source": [
    "Some of the popular languages that Data Scientists use are:\n",
    "1. C++\n",
    "2. R\n",
    "3. SQL"
   ]
  },
  {
   "cell_type": "markdown",
   "id": "3e2192a1-f8fb-4d51-bc1c-d2336b3bdbfd",
   "metadata": {},
   "source": [
    "Some of the commonly used libraries used by Data Scientists include:\n",
    "1. Pandas\n",
    "2. NumPy\n",
    "3. SciPy"
   ]
  },
  {
   "cell_type": "markdown",
   "id": "b03d0338-16f3-421d-ac42-28873cdc7164",
   "metadata": {},
   "source": [
    "| Data Science Tools |\n",
    "| ------------------ |\n",
    "| Git |\n",
    "| GitLab |\n",
    "| Apache |"
   ]
  },
  {
   "cell_type": "markdown",
   "id": "9140e1e9-5a5e-466a-a924-e1b75b5b401a",
   "metadata": {},
   "source": [
    "### Below are a few examples of evaluating arithmetic expressions in Python"
   ]
  },
  {
   "cell_type": "markdown",
   "id": "c6ce408c-4653-4856-9cf6-6b990f6369eb",
   "metadata": {},
   "source": [
    "This a simple arithmetic expression to mutiply then add integers"
   ]
  },
  {
   "cell_type": "code",
   "execution_count": 8,
   "id": "90e0bd4c-bb70-470a-95e1-e4422b2e39d1",
   "metadata": {},
   "outputs": [
    {
     "data": {
      "text/plain": [
       "17"
      ]
     },
     "execution_count": 8,
     "metadata": {},
     "output_type": "execute_result"
    }
   ],
   "source": [
    "(3*4)+5"
   ]
  },
  {
   "cell_type": "markdown",
   "id": "92fbf7c3-f42f-4488-95b6-bd9b10d751e9",
   "metadata": {},
   "source": [
    "This will convert 200 minutes to hours by diving by 60"
   ]
  },
  {
   "cell_type": "code",
   "execution_count": 9,
   "id": "ebe025ca-8caf-4df7-a2e3-ee37541d3fd4",
   "metadata": {},
   "outputs": [
    {
     "data": {
      "text/plain": [
       "3.3333333333333335"
      ]
     },
     "execution_count": 9,
     "metadata": {},
     "output_type": "execute_result"
    }
   ],
   "source": [
    "200/60"
   ]
  },
  {
   "cell_type": "markdown",
   "id": "3d27164e-a724-47a7-9024-9b4207ba635d",
   "metadata": {},
   "source": [
    "## Author"
   ]
  },
  {
   "cell_type": "markdown",
   "id": "67ef589b-b45b-4c58-b450-e3f9d75af26b",
   "metadata": {},
   "source": [
    "Christina Holloway"
   ]
  }
 ],
 "metadata": {
  "kernelspec": {
   "display_name": "Python 3 (ipykernel)",
   "language": "python",
   "name": "python3"
  },
  "language_info": {
   "codemirror_mode": {
    "name": "ipython",
    "version": 3
   },
   "file_extension": ".py",
   "mimetype": "text/x-python",
   "name": "python",
   "nbconvert_exporter": "python",
   "pygments_lexer": "ipython3",
   "version": "3.12.9"
  }
 },
 "nbformat": 4,
 "nbformat_minor": 5
}
